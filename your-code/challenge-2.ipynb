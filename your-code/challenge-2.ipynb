{
 "cells": [
  {
   "cell_type": "markdown",
   "metadata": {},
   "source": [
    "## Desafío 2: Sets\n",
    "\n",
    "Hay mucho que aprender sobre Python Sets y la información presentada en la lección es limitada debido a su longitud. Para aprender Python Sets en profundidad se recomienda encarecidamente revisar el tutorial de W3Schools sobre [Python Sets Examples and Methods](https://www.w3schools.com/python/python_sets.asp) antes de trabajar en este laboratorio. Algunas preguntas difíciles de este laboratorio tienen su solución en el tutorial de W3Schools.\n",
    "\n",
    "#### Primero, importa la librería `random` de Python."
   ]
  },
  {
   "cell_type": "code",
   "execution_count": 1,
   "metadata": {},
   "outputs": [],
   "source": [
    "import random"
   ]
  },
  {
   "cell_type": "markdown",
   "metadata": {},
   "source": [
    "#### En la celda de abajo, cree una lista llamada `lista_de_muestra_1` con 80 valores aleatorios. \n",
    "\n",
    "Requisitos:\n",
    "\n",
    "* Cada valor es un entero comprendido entre 0 y 100.\n",
    "* Cada valor de la lista es único.\n",
    "\n",
    "Imprima `lista_de_muestras_1` para revisar sus valores\n",
    "\n",
    "*Pista: use `random.sample` ([referencia](https://docs.python.org/3/library/random.html#random.sample)).*"
   ]
  },
  {
   "cell_type": "code",
   "execution_count": 5,
   "metadata": {},
   "outputs": [
    {
     "name": "stdout",
     "output_type": "stream",
     "text": [
      "[83, 82, 78, 94, 28, 59, 30, 65, 86, 18, 77, 49, 21, 4, 14, 90, 43, 53, 27, 89, 93, 50, 64, 76, 40, 35, 69, 23, 42, 73, 22, 96, 13, 34, 36, 84, 37, 87, 47, 1, 67, 31, 32, 5, 3, 88, 9, 38, 74, 24, 85, 6, 48, 25, 51, 72, 44, 11, 46, 16, 15, 19, 56, 70, 95, 97, 29, 98, 92, 75, 12, 45, 10, 52, 7, 81, 57, 91, 62, 63]\n"
     ]
    }
   ],
   "source": [
    "# Your code here\n",
    "lista_de_muestra_1 = random.sample(range(0, 100), 80)\n",
    "print(lista_de_muestra_1)"
   ]
  },
  {
   "cell_type": "code",
   "execution_count": 10,
   "metadata": {},
   "outputs": [
    {
     "name": "stdout",
     "output_type": "stream",
     "text": [
      "83 esta 1 veces en lista_de_muestra_1\n",
      "82 esta 1 veces en lista_de_muestra_1\n",
      "78 esta 1 veces en lista_de_muestra_1\n",
      "94 esta 1 veces en lista_de_muestra_1\n",
      "28 esta 1 veces en lista_de_muestra_1\n",
      "59 esta 1 veces en lista_de_muestra_1\n",
      "30 esta 1 veces en lista_de_muestra_1\n",
      "65 esta 1 veces en lista_de_muestra_1\n",
      "86 esta 1 veces en lista_de_muestra_1\n",
      "18 esta 1 veces en lista_de_muestra_1\n",
      "77 esta 1 veces en lista_de_muestra_1\n",
      "49 esta 1 veces en lista_de_muestra_1\n",
      "21 esta 1 veces en lista_de_muestra_1\n",
      "4 esta 1 veces en lista_de_muestra_1\n",
      "14 esta 1 veces en lista_de_muestra_1\n",
      "90 esta 1 veces en lista_de_muestra_1\n",
      "43 esta 1 veces en lista_de_muestra_1\n",
      "53 esta 1 veces en lista_de_muestra_1\n",
      "27 esta 1 veces en lista_de_muestra_1\n",
      "89 esta 1 veces en lista_de_muestra_1\n",
      "93 esta 1 veces en lista_de_muestra_1\n",
      "50 esta 1 veces en lista_de_muestra_1\n",
      "64 esta 1 veces en lista_de_muestra_1\n",
      "76 esta 1 veces en lista_de_muestra_1\n",
      "40 esta 1 veces en lista_de_muestra_1\n",
      "35 esta 1 veces en lista_de_muestra_1\n",
      "69 esta 1 veces en lista_de_muestra_1\n",
      "23 esta 1 veces en lista_de_muestra_1\n",
      "42 esta 1 veces en lista_de_muestra_1\n",
      "73 esta 1 veces en lista_de_muestra_1\n",
      "22 esta 1 veces en lista_de_muestra_1\n",
      "96 esta 1 veces en lista_de_muestra_1\n",
      "13 esta 1 veces en lista_de_muestra_1\n",
      "34 esta 1 veces en lista_de_muestra_1\n",
      "36 esta 1 veces en lista_de_muestra_1\n",
      "84 esta 1 veces en lista_de_muestra_1\n",
      "37 esta 1 veces en lista_de_muestra_1\n",
      "87 esta 1 veces en lista_de_muestra_1\n",
      "47 esta 1 veces en lista_de_muestra_1\n",
      "1 esta 1 veces en lista_de_muestra_1\n",
      "67 esta 1 veces en lista_de_muestra_1\n",
      "31 esta 1 veces en lista_de_muestra_1\n",
      "32 esta 1 veces en lista_de_muestra_1\n",
      "5 esta 1 veces en lista_de_muestra_1\n",
      "3 esta 1 veces en lista_de_muestra_1\n",
      "88 esta 1 veces en lista_de_muestra_1\n",
      "9 esta 1 veces en lista_de_muestra_1\n",
      "38 esta 1 veces en lista_de_muestra_1\n",
      "74 esta 1 veces en lista_de_muestra_1\n",
      "24 esta 1 veces en lista_de_muestra_1\n",
      "85 esta 1 veces en lista_de_muestra_1\n",
      "6 esta 1 veces en lista_de_muestra_1\n",
      "48 esta 1 veces en lista_de_muestra_1\n",
      "25 esta 1 veces en lista_de_muestra_1\n",
      "51 esta 1 veces en lista_de_muestra_1\n",
      "72 esta 1 veces en lista_de_muestra_1\n",
      "44 esta 1 veces en lista_de_muestra_1\n",
      "11 esta 1 veces en lista_de_muestra_1\n",
      "46 esta 1 veces en lista_de_muestra_1\n",
      "16 esta 1 veces en lista_de_muestra_1\n",
      "15 esta 1 veces en lista_de_muestra_1\n",
      "19 esta 1 veces en lista_de_muestra_1\n",
      "56 esta 1 veces en lista_de_muestra_1\n",
      "70 esta 1 veces en lista_de_muestra_1\n",
      "95 esta 1 veces en lista_de_muestra_1\n",
      "97 esta 1 veces en lista_de_muestra_1\n",
      "29 esta 1 veces en lista_de_muestra_1\n",
      "98 esta 1 veces en lista_de_muestra_1\n",
      "92 esta 1 veces en lista_de_muestra_1\n",
      "75 esta 1 veces en lista_de_muestra_1\n",
      "12 esta 1 veces en lista_de_muestra_1\n",
      "45 esta 1 veces en lista_de_muestra_1\n",
      "10 esta 1 veces en lista_de_muestra_1\n",
      "52 esta 1 veces en lista_de_muestra_1\n",
      "7 esta 1 veces en lista_de_muestra_1\n",
      "81 esta 1 veces en lista_de_muestra_1\n",
      "57 esta 1 veces en lista_de_muestra_1\n",
      "91 esta 1 veces en lista_de_muestra_1\n",
      "62 esta 1 veces en lista_de_muestra_1\n",
      "63 esta 1 veces en lista_de_muestra_1\n"
     ]
    }
   ],
   "source": [
    "# Compruebo que no esten repetidos\n",
    "for i in lista_de_muestra_1:\n",
    "    N_veces = lista_de_muestra_1.count(i)\n",
    "    print(i, \"esta\", N_veces, \"veces en lista_de_muestra_1\")"
   ]
  },
  {
   "cell_type": "markdown",
   "metadata": {},
   "source": [
    "#### Convierte `lista_muestra_1` en un conjunto llamado `set1`. Imprime la longitud del conjunto. ¿Sigue siendo 80?"
   ]
  },
  {
   "cell_type": "code",
   "execution_count": 7,
   "metadata": {},
   "outputs": [
    {
     "name": "stdout",
     "output_type": "stream",
     "text": [
      "80\n"
     ]
    }
   ],
   "source": [
    "# Your code here\n",
    "set1 = set(lista_de_muestra_1)\n",
    "print(len(set1))"
   ]
  },
  {
   "cell_type": "markdown",
   "metadata": {},
   "source": [
    "#### Crear otra lista llamada `lista_de_muestra_2` con 80 valores aleatorios.\n",
    "\n",
    "Requisitos:\n",
    "\n",
    "* Cada valor es un entero comprendido entre 0 y 100.\n",
    "* Los valores de la lista no tienen que ser únicos.\n",
    "\n",
    "*Sugerencia: Use un bucle FOR.*"
   ]
  },
  {
   "cell_type": "code",
   "execution_count": 9,
   "metadata": {},
   "outputs": [
    {
     "name": "stdout",
     "output_type": "stream",
     "text": [
      "[42, 71, 49, 23, 87, 98, 89, 75, 65, 16, 12, 50, 44, 10, 11, 27, 17, 18, 60, 8, 94, 71, 50, 80, 7, 24, 95, 9, 6, 45, 20, 85, 6, 50, 12, 52, 87, 58, 12, 31, 61, 10, 28, 21, 63, 30, 83, 21, 36, 8, 10, 72, 63, 16, 22, 77, 6, 85, 13, 79, 35, 25, 1, 31, 36, 57, 45, 56, 67, 51, 70, 55, 88, 28, 55, 4, 99, 6, 0, 0]\n"
     ]
    }
   ],
   "source": [
    "# Your code here\n",
    "lista_de_muestra_2 = [random.randint(0,100) for _ in range(80)]\n",
    "print(lista_de_muestra_2)"
   ]
  },
  {
   "cell_type": "code",
   "execution_count": 11,
   "metadata": {},
   "outputs": [
    {
     "name": "stdout",
     "output_type": "stream",
     "text": [
      "42 esta 1 veces en lista_de_muestra_2\n",
      "71 esta 2 veces en lista_de_muestra_2\n",
      "49 esta 1 veces en lista_de_muestra_2\n",
      "23 esta 1 veces en lista_de_muestra_2\n",
      "87 esta 2 veces en lista_de_muestra_2\n",
      "98 esta 1 veces en lista_de_muestra_2\n",
      "89 esta 1 veces en lista_de_muestra_2\n",
      "75 esta 1 veces en lista_de_muestra_2\n",
      "65 esta 1 veces en lista_de_muestra_2\n",
      "16 esta 2 veces en lista_de_muestra_2\n",
      "12 esta 3 veces en lista_de_muestra_2\n",
      "50 esta 3 veces en lista_de_muestra_2\n",
      "44 esta 1 veces en lista_de_muestra_2\n",
      "10 esta 3 veces en lista_de_muestra_2\n",
      "11 esta 1 veces en lista_de_muestra_2\n",
      "27 esta 1 veces en lista_de_muestra_2\n",
      "17 esta 1 veces en lista_de_muestra_2\n",
      "18 esta 1 veces en lista_de_muestra_2\n",
      "60 esta 1 veces en lista_de_muestra_2\n",
      "8 esta 2 veces en lista_de_muestra_2\n",
      "94 esta 1 veces en lista_de_muestra_2\n",
      "71 esta 2 veces en lista_de_muestra_2\n",
      "50 esta 3 veces en lista_de_muestra_2\n",
      "80 esta 1 veces en lista_de_muestra_2\n",
      "7 esta 1 veces en lista_de_muestra_2\n",
      "24 esta 1 veces en lista_de_muestra_2\n",
      "95 esta 1 veces en lista_de_muestra_2\n",
      "9 esta 1 veces en lista_de_muestra_2\n",
      "6 esta 4 veces en lista_de_muestra_2\n",
      "45 esta 2 veces en lista_de_muestra_2\n",
      "20 esta 1 veces en lista_de_muestra_2\n",
      "85 esta 2 veces en lista_de_muestra_2\n",
      "6 esta 4 veces en lista_de_muestra_2\n",
      "50 esta 3 veces en lista_de_muestra_2\n",
      "12 esta 3 veces en lista_de_muestra_2\n",
      "52 esta 1 veces en lista_de_muestra_2\n",
      "87 esta 2 veces en lista_de_muestra_2\n",
      "58 esta 1 veces en lista_de_muestra_2\n",
      "12 esta 3 veces en lista_de_muestra_2\n",
      "31 esta 2 veces en lista_de_muestra_2\n",
      "61 esta 1 veces en lista_de_muestra_2\n",
      "10 esta 3 veces en lista_de_muestra_2\n",
      "28 esta 2 veces en lista_de_muestra_2\n",
      "21 esta 2 veces en lista_de_muestra_2\n",
      "63 esta 2 veces en lista_de_muestra_2\n",
      "30 esta 1 veces en lista_de_muestra_2\n",
      "83 esta 1 veces en lista_de_muestra_2\n",
      "21 esta 2 veces en lista_de_muestra_2\n",
      "36 esta 2 veces en lista_de_muestra_2\n",
      "8 esta 2 veces en lista_de_muestra_2\n",
      "10 esta 3 veces en lista_de_muestra_2\n",
      "72 esta 1 veces en lista_de_muestra_2\n",
      "63 esta 2 veces en lista_de_muestra_2\n",
      "16 esta 2 veces en lista_de_muestra_2\n",
      "22 esta 1 veces en lista_de_muestra_2\n",
      "77 esta 1 veces en lista_de_muestra_2\n",
      "6 esta 4 veces en lista_de_muestra_2\n",
      "85 esta 2 veces en lista_de_muestra_2\n",
      "13 esta 1 veces en lista_de_muestra_2\n",
      "79 esta 1 veces en lista_de_muestra_2\n",
      "35 esta 1 veces en lista_de_muestra_2\n",
      "25 esta 1 veces en lista_de_muestra_2\n",
      "1 esta 1 veces en lista_de_muestra_2\n",
      "31 esta 2 veces en lista_de_muestra_2\n",
      "36 esta 2 veces en lista_de_muestra_2\n",
      "57 esta 1 veces en lista_de_muestra_2\n",
      "45 esta 2 veces en lista_de_muestra_2\n",
      "56 esta 1 veces en lista_de_muestra_2\n",
      "67 esta 1 veces en lista_de_muestra_2\n",
      "51 esta 1 veces en lista_de_muestra_2\n",
      "70 esta 1 veces en lista_de_muestra_2\n",
      "55 esta 2 veces en lista_de_muestra_2\n",
      "88 esta 1 veces en lista_de_muestra_2\n",
      "28 esta 2 veces en lista_de_muestra_2\n",
      "55 esta 2 veces en lista_de_muestra_2\n",
      "4 esta 1 veces en lista_de_muestra_2\n",
      "99 esta 1 veces en lista_de_muestra_2\n",
      "6 esta 4 veces en lista_de_muestra_2\n",
      "0 esta 2 veces en lista_de_muestra_2\n",
      "0 esta 2 veces en lista_de_muestra_2\n"
     ]
    }
   ],
   "source": [
    "# Compruebo que no sean únicos\n",
    "for i in lista_de_muestra_2:\n",
    "    N_veces = lista_de_muestra_2.count(i)\n",
    "    print(i, \"esta\", N_veces, \"veces en lista_de_muestra_2\")"
   ]
  },
  {
   "cell_type": "markdown",
   "metadata": {},
   "source": [
    "#### Convierte `lista_muestra_2` en un conjunto llamado `conjunto2`. Imprime la longitud del conjunto. ¿Sigue siendo 80?"
   ]
  },
  {
   "cell_type": "code",
   "execution_count": 12,
   "metadata": {},
   "outputs": [
    {
     "name": "stdout",
     "output_type": "stream",
     "text": [
      "58\n"
     ]
    }
   ],
   "source": [
    "# Your code here\n",
    "set2 = set(lista_de_muestra_2)\n",
    "print(len(set2))"
   ]
  },
  {
   "cell_type": "code",
   "execution_count": null,
   "metadata": {},
   "outputs": [],
   "source": [
    "# La longitud de set2 no es 80 como en la lista. Esto se debe a que los sets están formados por valores únicos, por lo que al pasar la lista a un set elimina los elementos repetidos."
   ]
  },
  {
   "cell_type": "markdown",
   "metadata": {},
   "source": [
    "#### Identificar los elementos presentes en el `set1` pero no en el `set2`. Asigna los elementos a un nuevo conjunto llamado `set3`."
   ]
  },
  {
   "cell_type": "code",
   "execution_count": 18,
   "metadata": {},
   "outputs": [
    {
     "name": "stdout",
     "output_type": "stream",
     "text": [
      "{3, 5, 14, 15, 19, 29, 32, 34, 37, 38, 40, 43, 46, 47, 48, 53, 59, 62, 64, 69, 73, 74, 76, 78, 81, 82, 84, 86, 90, 91, 92, 93, 96, 97}\n"
     ]
    }
   ],
   "source": [
    "# Your code here\n",
    "set5 = set1.intersection(set2)\n",
    "set3 = set1 - set5\n",
    "print(set3)"
   ]
  },
  {
   "cell_type": "markdown",
   "metadata": {},
   "source": [
    "#### Identificar los elementos presentes en el `set2` pero no en el `set1`. Asigna los elementos a un nuevo conjunto llamado `set4`."
   ]
  },
  {
   "cell_type": "code",
   "execution_count": 14,
   "metadata": {},
   "outputs": [
    {
     "name": "stdout",
     "output_type": "stream",
     "text": [
      "{0, 99, 71, 8, 79, 80, 17, 20, 55, 58, 60, 61}\n"
     ]
    }
   ],
   "source": [
    "# Your code here\n",
    "set5 = set1.intersection(set2)\n",
    "set4 = set2 - set5\n",
    "print(set4)"
   ]
  },
  {
   "cell_type": "markdown",
   "metadata": {},
   "source": [
    "#### Identifica ahora los elementos compartidos entre `set1` y `set2`. Asigna los elementos a un nuevo conjunto llamado `set5`."
   ]
  },
  {
   "cell_type": "code",
   "execution_count": 15,
   "metadata": {},
   "outputs": [
    {
     "name": "stdout",
     "output_type": "stream",
     "text": [
      "{1, 4, 6, 7, 9, 10, 11, 12, 13, 16, 18, 21, 22, 23, 24, 25, 27, 28, 30, 31, 35, 36, 42, 44, 45, 49, 50, 51, 52, 56, 57, 63, 65, 67, 70, 72, 75, 77, 83, 85, 87, 88, 89, 94, 95, 98}\n"
     ]
    }
   ],
   "source": [
    "# Your code here\n",
    "print(set5)"
   ]
  },
  {
   "cell_type": "markdown",
   "metadata": {},
   "source": [
    "#### ¿Cuál es la relación entre los siguientes valores:\n",
    "\n",
    "* len(set1)\n",
    "* len(set2)\n",
    "* len(set3)\n",
    "* len(set4)\n",
    "* len(set5)\n",
    "\n",
    "Utiliza una fórmula matemática para representar esa relación. Prueba tu fórmula con código Python."
   ]
  },
  {
   "cell_type": "code",
   "execution_count": 20,
   "metadata": {},
   "outputs": [
    {
     "name": "stdout",
     "output_type": "stream",
     "text": [
      "80\n",
      "58\n",
      "34\n",
      "12\n",
      "46\n"
     ]
    }
   ],
   "source": [
    "print(len(set1))\n",
    "print(len(set2))\n",
    "print(len(set3))\n",
    "print(len(set4))\n",
    "print(len(set5))"
   ]
  },
  {
   "cell_type": "code",
   "execution_count": 21,
   "metadata": {},
   "outputs": [
    {
     "data": {
      "text/plain": [
       "True"
      ]
     },
     "execution_count": 21,
     "metadata": {},
     "output_type": "execute_result"
    }
   ],
   "source": [
    "# Your code here\n",
    "len(set3) + len(set4) + len(set5) == len(set1) + len(set2) - len(set5)"
   ]
  },
  {
   "cell_type": "markdown",
   "metadata": {},
   "source": [
    "#### Crear un conjunto vacío llamado `set6`."
   ]
  },
  {
   "cell_type": "code",
   "execution_count": 22,
   "metadata": {},
   "outputs": [],
   "source": [
    "# Your code here\n",
    "set6 = set()"
   ]
  },
  {
   "cell_type": "markdown",
   "metadata": {},
   "source": [
    "#### Añade `set3` y `set5` a `set6` usando el método `update` de Python Set."
   ]
  },
  {
   "cell_type": "code",
   "execution_count": 23,
   "metadata": {},
   "outputs": [],
   "source": [
    "# Your code here\n",
    "set6.update(set3)\n",
    "set6.update(set5)"
   ]
  },
  {
   "cell_type": "markdown",
   "metadata": {},
   "source": [
    "#### Comprueba si `set1` y `set6` son iguales."
   ]
  },
  {
   "cell_type": "code",
   "execution_count": 24,
   "metadata": {},
   "outputs": [
    {
     "data": {
      "text/plain": [
       "True"
      ]
     },
     "execution_count": 24,
     "metadata": {},
     "output_type": "execute_result"
    }
   ],
   "source": [
    "# Your code here\n",
    "set1 == set6"
   ]
  },
  {
   "cell_type": "markdown",
   "metadata": {},
   "source": [
    "#### Comprueba si `set1` contiene `set2` usando el método `issubset` de Python Set. Luego comprueba si `set1` contiene `set3`.*"
   ]
  },
  {
   "cell_type": "code",
   "execution_count": 25,
   "metadata": {},
   "outputs": [
    {
     "data": {
      "text/plain": [
       "False"
      ]
     },
     "execution_count": 25,
     "metadata": {},
     "output_type": "execute_result"
    }
   ],
   "source": [
    "# Your code here\n",
    "set2.issubset(set1)"
   ]
  },
  {
   "cell_type": "markdown",
   "metadata": {},
   "source": [
    "#### Usando el método `union` de Python, agrega `set3`, `set4`, y `set5`. Luego agrega `set1` y `set2`. \n",
    "\n",
    "#### Comprueba si los valores agregados son iguales."
   ]
  },
  {
   "cell_type": "code",
   "execution_count": 27,
   "metadata": {},
   "outputs": [
    {
     "data": {
      "text/plain": [
       "True"
      ]
     },
     "execution_count": 27,
     "metadata": {},
     "output_type": "execute_result"
    }
   ],
   "source": [
    "# Your code here\n",
    "union_sets1 = set3.union(set4)\n",
    "union_sets1 = set5.union(union_sets1)\n",
    "union_sets2 = set1.union(set2)\n",
    "union_sets1 == union_sets2"
   ]
  },
  {
   "cell_type": "markdown",
   "metadata": {},
   "source": [
    "#### Utilizando el método `pop`, elimina el primer elemento de `set1`."
   ]
  },
  {
   "cell_type": "code",
   "execution_count": 28,
   "metadata": {},
   "outputs": [
    {
     "name": "stdout",
     "output_type": "stream",
     "text": [
      "{1, 3, 4, 5, 6, 7, 9, 10, 11, 12, 13, 14, 15, 16, 18, 19, 21, 22, 23, 24, 25, 27, 28, 29, 30, 31, 32, 34, 35, 36, 37, 38, 40, 42, 43, 44, 45, 46, 47, 48, 49, 50, 51, 52, 53, 56, 57, 59, 62, 63, 64, 65, 67, 69, 70, 72, 73, 74, 75, 76, 77, 78, 81, 82, 83, 84, 85, 86, 87, 88, 89, 90, 91, 92, 93, 94, 95, 96, 97, 98}\n"
     ]
    }
   ],
   "source": [
    "print(set1)"
   ]
  },
  {
   "cell_type": "code",
   "execution_count": 30,
   "metadata": {},
   "outputs": [
    {
     "data": {
      "text/plain": [
       "1"
      ]
     },
     "execution_count": 30,
     "metadata": {},
     "output_type": "execute_result"
    }
   ],
   "source": [
    "# Your code here\n",
    "set1 = list(set1)\n",
    "set1.pop(0)"
   ]
  },
  {
   "cell_type": "code",
   "execution_count": 33,
   "metadata": {},
   "outputs": [
    {
     "name": "stdout",
     "output_type": "stream",
     "text": [
      "{3, 4, 5, 6, 7, 9, 10, 11, 12, 13, 14, 15, 16, 18, 19, 21, 22, 23, 24, 25, 27, 28, 29, 30, 31, 32, 34, 35, 36, 37, 38, 40, 42, 43, 44, 45, 46, 47, 48, 49, 50, 51, 52, 53, 56, 57, 59, 62, 63, 64, 65, 67, 69, 70, 72, 73, 74, 75, 76, 77, 78, 81, 82, 83, 84, 85, 86, 87, 88, 89, 90, 91, 92, 93, 94, 95, 96, 97, 98}\n"
     ]
    }
   ],
   "source": [
    "set1 = set(set1)\n",
    "print(set1)"
   ]
  },
  {
   "cell_type": "markdown",
   "metadata": {},
   "source": [
    "#### Elimina cada elemento de la siguiente lista del `set1` si están presentes en el set. Imprime los elementos restantes.\n",
    "\n",
    "```\n",
    "lista_a_eliminar = [1, 9, 11, 19, 21, 29, 31, 39, 41, 49, 51, 59, 61, 69, 71, 79, 81, 89, 91, 99]\n",
    "```"
   ]
  },
  {
   "cell_type": "code",
   "execution_count": 38,
   "metadata": {},
   "outputs": [
    {
     "name": "stdout",
     "output_type": "stream",
     "text": [
      "[1, 39, 41, 61, 71, 79, 99]\n"
     ]
    }
   ],
   "source": [
    "# Your code here\n",
    "lista_a_eliminar = [1, 9, 11, 19, 21, 29, 31, 39, 41, 49, 51, 59, 61, 69, 71, 79, 81, 89, 91, 99]\n",
    "\n",
    "lista_a_eliminar = [elemento for elemento in lista_a_eliminar if elemento not in set1]\n",
    "\n",
    "print(lista_a_eliminar)"
   ]
  }
 ],
 "metadata": {
  "kernelspec": {
   "display_name": "Python 3 (ipykernel)",
   "language": "python",
   "name": "python3"
  },
  "language_info": {
   "codemirror_mode": {
    "name": "ipython",
    "version": 3
   },
   "file_extension": ".py",
   "mimetype": "text/x-python",
   "name": "python",
   "nbconvert_exporter": "python",
   "pygments_lexer": "ipython3",
   "version": "3.10.9"
  }
 },
 "nbformat": 4,
 "nbformat_minor": 2
}
