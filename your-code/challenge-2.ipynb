{
 "cells": [
  {
   "cell_type": "markdown",
   "metadata": {},
   "source": [
    "## Desafío 2: Sets\n",
    "\n",
    "Hay mucho que aprender sobre Python Sets y la información presentada en la lección es limitada debido a su longitud. Para aprender Python Sets en profundidad se recomienda encarecidamente revisar el tutorial de W3Schools sobre [Python Sets Examples and Methods](https://www.w3schools.com/python/python_sets.asp) antes de trabajar en este laboratorio. Algunas preguntas difíciles de este laboratorio tienen su solución en el tutorial de W3Schools.\n",
    "\n",
    "#### Primero, importa la librería `random` de Python."
   ]
  },
  {
   "cell_type": "code",
   "execution_count": 1,
   "metadata": {},
   "outputs": [],
   "source": [
    "import random"
   ]
  },
  {
   "cell_type": "markdown",
   "metadata": {},
   "source": [
    "#### En la celda de abajo, cree una lista llamada `lista_de_muestra_1` con 80 valores aleatorios. \n",
    "\n",
    "Requisitos:\n",
    "\n",
    "* Cada valor es un entero comprendido entre 0 y 100.\n",
    "* Cada valor de la lista es único.\n",
    "\n",
    "Imprima `lista_de_muestras_1` para revisar sus valores\n",
    "\n",
    "*Pista: use `random.sample` ([referencia](https://docs.python.org/3/library/random.html#random.sample)).*"
   ]
  },
  {
   "cell_type": "code",
   "execution_count": 5,
   "metadata": {},
   "outputs": [
    {
     "name": "stdout",
     "output_type": "stream",
     "text": [
      "[83, 82, 78, 94, 28, 59, 30, 65, 86, 18, 77, 49, 21, 4, 14, 90, 43, 53, 27, 89, 93, 50, 64, 76, 40, 35, 69, 23, 42, 73, 22, 96, 13, 34, 36, 84, 37, 87, 47, 1, 67, 31, 32, 5, 3, 88, 9, 38, 74, 24, 85, 6, 48, 25, 51, 72, 44, 11, 46, 16, 15, 19, 56, 70, 95, 97, 29, 98, 92, 75, 12, 45, 10, 52, 7, 81, 57, 91, 62, 63]\n"
     ]
    }
   ],
   "source": [
    "# Your code here\n",
    "lista_de_muestra_1 = random.sample(range(0, 100), 80)\n",
    "print(lista_de_muestra_1)"
   ]
  },
  {
   "cell_type": "code",
   "execution_count": 10,
   "metadata": {},
   "outputs": [
    {
     "name": "stdout",
     "output_type": "stream",
     "text": [
      "83 esta 1 veces en lista_de_muestra_1\n",
      "82 esta 1 veces en lista_de_muestra_1\n",
      "78 esta 1 veces en lista_de_muestra_1\n",
      "94 esta 1 veces en lista_de_muestra_1\n",
      "28 esta 1 veces en lista_de_muestra_1\n",
      "59 esta 1 veces en lista_de_muestra_1\n",
      "30 esta 1 veces en lista_de_muestra_1\n",
      "65 esta 1 veces en lista_de_muestra_1\n",
      "86 esta 1 veces en lista_de_muestra_1\n",
      "18 esta 1 veces en lista_de_muestra_1\n",
      "77 esta 1 veces en lista_de_muestra_1\n",
      "49 esta 1 veces en lista_de_muestra_1\n",
      "21 esta 1 veces en lista_de_muestra_1\n",
      "4 esta 1 veces en lista_de_muestra_1\n",
      "14 esta 1 veces en lista_de_muestra_1\n",
      "90 esta 1 veces en lista_de_muestra_1\n",
      "43 esta 1 veces en lista_de_muestra_1\n",
      "53 esta 1 veces en lista_de_muestra_1\n",
      "27 esta 1 veces en lista_de_muestra_1\n",
      "89 esta 1 veces en lista_de_muestra_1\n",
      "93 esta 1 veces en lista_de_muestra_1\n",
      "50 esta 1 veces en lista_de_muestra_1\n",
      "64 esta 1 veces en lista_de_muestra_1\n",
      "76 esta 1 veces en lista_de_muestra_1\n",
      "40 esta 1 veces en lista_de_muestra_1\n",
      "35 esta 1 veces en lista_de_muestra_1\n",
      "69 esta 1 veces en lista_de_muestra_1\n",
      "23 esta 1 veces en lista_de_muestra_1\n",
      "42 esta 1 veces en lista_de_muestra_1\n",
      "73 esta 1 veces en lista_de_muestra_1\n",
      "22 esta 1 veces en lista_de_muestra_1\n",
      "96 esta 1 veces en lista_de_muestra_1\n",
      "13 esta 1 veces en lista_de_muestra_1\n",
      "34 esta 1 veces en lista_de_muestra_1\n",
      "36 esta 1 veces en lista_de_muestra_1\n",
      "84 esta 1 veces en lista_de_muestra_1\n",
      "37 esta 1 veces en lista_de_muestra_1\n",
      "87 esta 1 veces en lista_de_muestra_1\n",
      "47 esta 1 veces en lista_de_muestra_1\n",
      "1 esta 1 veces en lista_de_muestra_1\n",
      "67 esta 1 veces en lista_de_muestra_1\n",
      "31 esta 1 veces en lista_de_muestra_1\n",
      "32 esta 1 veces en lista_de_muestra_1\n",
      "5 esta 1 veces en lista_de_muestra_1\n",
      "3 esta 1 veces en lista_de_muestra_1\n",
      "88 esta 1 veces en lista_de_muestra_1\n",
      "9 esta 1 veces en lista_de_muestra_1\n",
      "38 esta 1 veces en lista_de_muestra_1\n",
      "74 esta 1 veces en lista_de_muestra_1\n",
      "24 esta 1 veces en lista_de_muestra_1\n",
      "85 esta 1 veces en lista_de_muestra_1\n",
      "6 esta 1 veces en lista_de_muestra_1\n",
      "48 esta 1 veces en lista_de_muestra_1\n",
      "25 esta 1 veces en lista_de_muestra_1\n",
      "51 esta 1 veces en lista_de_muestra_1\n",
      "72 esta 1 veces en lista_de_muestra_1\n",
      "44 esta 1 veces en lista_de_muestra_1\n",
      "11 esta 1 veces en lista_de_muestra_1\n",
      "46 esta 1 veces en lista_de_muestra_1\n",
      "16 esta 1 veces en lista_de_muestra_1\n",
      "15 esta 1 veces en lista_de_muestra_1\n",
      "19 esta 1 veces en lista_de_muestra_1\n",
      "56 esta 1 veces en lista_de_muestra_1\n",
      "70 esta 1 veces en lista_de_muestra_1\n",
      "95 esta 1 veces en lista_de_muestra_1\n",
      "97 esta 1 veces en lista_de_muestra_1\n",
      "29 esta 1 veces en lista_de_muestra_1\n",
      "98 esta 1 veces en lista_de_muestra_1\n",
      "92 esta 1 veces en lista_de_muestra_1\n",
      "75 esta 1 veces en lista_de_muestra_1\n",
      "12 esta 1 veces en lista_de_muestra_1\n",
      "45 esta 1 veces en lista_de_muestra_1\n",
      "10 esta 1 veces en lista_de_muestra_1\n",
      "52 esta 1 veces en lista_de_muestra_1\n",
      "7 esta 1 veces en lista_de_muestra_1\n",
      "81 esta 1 veces en lista_de_muestra_1\n",
      "57 esta 1 veces en lista_de_muestra_1\n",
      "91 esta 1 veces en lista_de_muestra_1\n",
      "62 esta 1 veces en lista_de_muestra_1\n",
      "63 esta 1 veces en lista_de_muestra_1\n"
     ]
    }
   ],
   "source": [
    "# Compruebo que no esten repetidos\n",
    "for i in lista_de_muestra_1:\n",
    "    N_veces = lista_de_muestra_1.count(i)\n",
    "    print(i, \"esta\", N_veces, \"veces en lista_de_muestra_1\")"
   ]
  },
  {
   "cell_type": "markdown",
   "metadata": {},
   "source": [
    "#### Convierte `lista_muestra_1` en un conjunto llamado `set1`. Imprime la longitud del conjunto. ¿Sigue siendo 80?"
   ]
  },
  {
   "cell_type": "code",
   "execution_count": 7,
   "metadata": {},
   "outputs": [
    {
     "name": "stdout",
     "output_type": "stream",
     "text": [
      "80\n"
     ]
    }
   ],
   "source": [
    "# Your code here\n",
    "set1 = set(lista_de_muestra_1)\n",
    "print(len(set1))"
   ]
  },
  {
   "cell_type": "markdown",
   "metadata": {},
   "source": [
    "#### Crear otra lista llamada `lista_de_muestra_2` con 80 valores aleatorios.\n",
    "\n",
    "Requisitos:\n",
    "\n",
    "* Cada valor es un entero comprendido entre 0 y 100.\n",
    "* Los valores de la lista no tienen que ser únicos.\n",
    "\n",
    "*Sugerencia: Use un bucle FOR.*"
   ]
  },
  {
   "cell_type": "code",
   "execution_count": 9,
   "metadata": {},
   "outputs": [
    {
     "name": "stdout",
     "output_type": "stream",
     "text": [
      "[42, 71, 49, 23, 87, 98, 89, 75, 65, 16, 12, 50, 44, 10, 11, 27, 17, 18, 60, 8, 94, 71, 50, 80, 7, 24, 95, 9, 6, 45, 20, 85, 6, 50, 12, 52, 87, 58, 12, 31, 61, 10, 28, 21, 63, 30, 83, 21, 36, 8, 10, 72, 63, 16, 22, 77, 6, 85, 13, 79, 35, 25, 1, 31, 36, 57, 45, 56, 67, 51, 70, 55, 88, 28, 55, 4, 99, 6, 0, 0]\n"
     ]
    }
   ],
   "source": [
    "# Your code here\n",
    "lista_de_muestra_2 = [random.randint(0,100) for _ in range(80)]\n",
    "print(lista_de_muestra_2)"
   ]
  },
  {
   "cell_type": "code",
   "execution_count": 11,
   "metadata": {},
   "outputs": [
    {
     "name": "stdout",
     "output_type": "stream",
     "text": [
      "42 esta 1 veces en lista_de_muestra_2\n",
      "71 esta 2 veces en lista_de_muestra_2\n",
      "49 esta 1 veces en lista_de_muestra_2\n",
      "23 esta 1 veces en lista_de_muestra_2\n",
      "87 esta 2 veces en lista_de_muestra_2\n",
      "98 esta 1 veces en lista_de_muestra_2\n",
      "89 esta 1 veces en lista_de_muestra_2\n",
      "75 esta 1 veces en lista_de_muestra_2\n",
      "65 esta 1 veces en lista_de_muestra_2\n",
      "16 esta 2 veces en lista_de_muestra_2\n",
      "12 esta 3 veces en lista_de_muestra_2\n",
      "50 esta 3 veces en lista_de_muestra_2\n",
      "44 esta 1 veces en lista_de_muestra_2\n",
      "10 esta 3 veces en lista_de_muestra_2\n",
      "11 esta 1 veces en lista_de_muestra_2\n",
      "27 esta 1 veces en lista_de_muestra_2\n",
      "17 esta 1 veces en lista_de_muestra_2\n",
      "18 esta 1 veces en lista_de_muestra_2\n",
      "60 esta 1 veces en lista_de_muestra_2\n",
      "8 esta 2 veces en lista_de_muestra_2\n",
      "94 esta 1 veces en lista_de_muestra_2\n",
      "71 esta 2 veces en lista_de_muestra_2\n",
      "50 esta 3 veces en lista_de_muestra_2\n",
      "80 esta 1 veces en lista_de_muestra_2\n",
      "7 esta 1 veces en lista_de_muestra_2\n",
      "24 esta 1 veces en lista_de_muestra_2\n",
      "95 esta 1 veces en lista_de_muestra_2\n",
      "9 esta 1 veces en lista_de_muestra_2\n",
      "6 esta 4 veces en lista_de_muestra_2\n",
      "45 esta 2 veces en lista_de_muestra_2\n",
      "20 esta 1 veces en lista_de_muestra_2\n",
      "85 esta 2 veces en lista_de_muestra_2\n",
      "6 esta 4 veces en lista_de_muestra_2\n",
      "50 esta 3 veces en lista_de_muestra_2\n",
      "12 esta 3 veces en lista_de_muestra_2\n",
      "52 esta 1 veces en lista_de_muestra_2\n",
      "87 esta 2 veces en lista_de_muestra_2\n",
      "58 esta 1 veces en lista_de_muestra_2\n",
      "12 esta 3 veces en lista_de_muestra_2\n",
      "31 esta 2 veces en lista_de_muestra_2\n",
      "61 esta 1 veces en lista_de_muestra_2\n",
      "10 esta 3 veces en lista_de_muestra_2\n",
      "28 esta 2 veces en lista_de_muestra_2\n",
      "21 esta 2 veces en lista_de_muestra_2\n",
      "63 esta 2 veces en lista_de_muestra_2\n",
      "30 esta 1 veces en lista_de_muestra_2\n",
      "83 esta 1 veces en lista_de_muestra_2\n",
      "21 esta 2 veces en lista_de_muestra_2\n",
      "36 esta 2 veces en lista_de_muestra_2\n",
      "8 esta 2 veces en lista_de_muestra_2\n",
      "10 esta 3 veces en lista_de_muestra_2\n",
      "72 esta 1 veces en lista_de_muestra_2\n",
      "63 esta 2 veces en lista_de_muestra_2\n",
      "16 esta 2 veces en lista_de_muestra_2\n",
      "22 esta 1 veces en lista_de_muestra_2\n",
      "77 esta 1 veces en lista_de_muestra_2\n",
      "6 esta 4 veces en lista_de_muestra_2\n",
      "85 esta 2 veces en lista_de_muestra_2\n",
      "13 esta 1 veces en lista_de_muestra_2\n",
      "79 esta 1 veces en lista_de_muestra_2\n",
      "35 esta 1 veces en lista_de_muestra_2\n",
      "25 esta 1 veces en lista_de_muestra_2\n",
      "1 esta 1 veces en lista_de_muestra_2\n",
      "31 esta 2 veces en lista_de_muestra_2\n",
      "36 esta 2 veces en lista_de_muestra_2\n",
      "57 esta 1 veces en lista_de_muestra_2\n",
      "45 esta 2 veces en lista_de_muestra_2\n",
      "56 esta 1 veces en lista_de_muestra_2\n",
      "67 esta 1 veces en lista_de_muestra_2\n",
      "51 esta 1 veces en lista_de_muestra_2\n",
      "70 esta 1 veces en lista_de_muestra_2\n",
      "55 esta 2 veces en lista_de_muestra_2\n",
      "88 esta 1 veces en lista_de_muestra_2\n",
      "28 esta 2 veces en lista_de_muestra_2\n",
      "55 esta 2 veces en lista_de_muestra_2\n",
      "4 esta 1 veces en lista_de_muestra_2\n",
      "99 esta 1 veces en lista_de_muestra_2\n",
      "6 esta 4 veces en lista_de_muestra_2\n",
      "0 esta 2 veces en lista_de_muestra_2\n",
      "0 esta 2 veces en lista_de_muestra_2\n"
     ]
    }
   ],
   "source": [
    "# Compruebo que no sean únicos\n",
    "for i in lista_de_muestra_2:\n",
    "    N_veces = lista_de_muestra_2.count(i)\n",
    "    print(i, \"esta\", N_veces, \"veces en lista_de_muestra_2\")"
   ]
  },
  {
   "cell_type": "markdown",
   "metadata": {},
   "source": [
    "#### Convierte `lista_muestra_2` en un conjunto llamado `conjunto2`. Imprime la longitud del conjunto. ¿Sigue siendo 80?"
   ]
  },
  {
   "cell_type": "code",
   "execution_count": 12,
   "metadata": {},
   "outputs": [
    {
     "name": "stdout",
     "output_type": "stream",
     "text": [
      "58\n"
     ]
    }
   ],
   "source": [
    "# Your code here\n",
    "set2 = set(lista_de_muestra_2)\n",
    "print(len(set2))"
   ]
  },
  {
   "cell_type": "code",
   "execution_count": null,
   "metadata": {},
   "outputs": [],
   "source": [
    "# La longitud de set2 no es 80 como en la lista. Esto se debe a que los sets están formados por valores únicos, por lo que al pasar la lista a un set elimina los elementos repetidos."
   ]
  },
  {
   "cell_type": "markdown",
   "metadata": {},
   "source": [
    "#### Identificar los elementos presentes en el `conjunto1` pero no en el `conjunto2`. Asigna los elementos a un nuevo conjunto llamado `conjunto3`."
   ]
  },
  {
   "cell_type": "code",
   "execution_count": null,
   "metadata": {},
   "outputs": [],
   "source": [
    "# Your code here\n"
   ]
  },
  {
   "cell_type": "markdown",
   "metadata": {},
   "source": [
    "#### Identificar los elementos presentes en el `conjunto2` pero no en el `conjunto1`. Asigna los elementos a un nuevo conjunto llamado `conjunto4`."
   ]
  },
  {
   "cell_type": "code",
   "execution_count": null,
   "metadata": {},
   "outputs": [],
   "source": [
    "# Your code here\n"
   ]
  },
  {
   "cell_type": "markdown",
   "metadata": {},
   "source": [
    "#### Identifica ahora los elementos compartidos entre `set1` y `set2`. Asigna los elementos a un nuevo conjunto llamado `set5`."
   ]
  },
  {
   "cell_type": "code",
   "execution_count": null,
   "metadata": {},
   "outputs": [],
   "source": [
    "# Your code here\n"
   ]
  },
  {
   "cell_type": "markdown",
   "metadata": {},
   "source": [
    "#### ¿Cuál es la relación entre los siguientes valores:\n",
    "\n",
    "* len(conjunto1)\n",
    "* len(conjunto2)\n",
    "* len(set3)\n",
    "* len(set4)\n",
    "* len(set5)\n",
    "\n",
    "Utiliza una fórmula matemática para representar esa relación. Prueba tu fórmula con código Python."
   ]
  },
  {
   "cell_type": "code",
   "execution_count": null,
   "metadata": {},
   "outputs": [],
   "source": [
    "# Your code here\n"
   ]
  },
  {
   "cell_type": "markdown",
   "metadata": {},
   "source": [
    "#### Crear un conjunto vacío llamado `set6`."
   ]
  },
  {
   "cell_type": "code",
   "execution_count": null,
   "metadata": {},
   "outputs": [],
   "source": [
    "# Your code here\n"
   ]
  },
  {
   "cell_type": "markdown",
   "metadata": {},
   "source": [
    "#### Añade `set3` y `set5` a `set6` usando el método `update` de Python Set."
   ]
  },
  {
   "cell_type": "code",
   "execution_count": null,
   "metadata": {},
   "outputs": [],
   "source": [
    "# Your code here\n"
   ]
  },
  {
   "cell_type": "markdown",
   "metadata": {},
   "source": [
    "#### Comprueba si `set1` y `set6` son iguales."
   ]
  },
  {
   "cell_type": "code",
   "execution_count": null,
   "metadata": {},
   "outputs": [],
   "source": [
    "# Your code here\n"
   ]
  },
  {
   "cell_type": "markdown",
   "metadata": {},
   "source": [
    "#### Comprueba si `set1` contiene `set2` usando el método `issubset` de Python Set. Luego comprueba si `set1` contiene `set3`.*"
   ]
  },
  {
   "cell_type": "code",
   "execution_count": null,
   "metadata": {},
   "outputs": [],
   "source": [
    "# Your code here\n"
   ]
  },
  {
   "cell_type": "markdown",
   "metadata": {},
   "source": [
    "#### Usando el método `union` de Python, agrega `set3`, `set4`, y `set5`. Luego agrega `set1` y `set2`. \n",
    "\n",
    "#### Comprueba si los valores agregados son iguales."
   ]
  },
  {
   "cell_type": "code",
   "execution_count": null,
   "metadata": {},
   "outputs": [],
   "source": [
    "# Your code here\n"
   ]
  },
  {
   "cell_type": "markdown",
   "metadata": {},
   "source": [
    "#### Utilizando el método `pop`, elimina el primer elemento de `set1`."
   ]
  },
  {
   "cell_type": "code",
   "execution_count": null,
   "metadata": {},
   "outputs": [],
   "source": [
    "# Your code here\n"
   ]
  },
  {
   "cell_type": "markdown",
   "metadata": {},
   "source": [
    "#### Elimina cada elemento de la siguiente lista del `set1` si están presentes en el conjunto. Imprime los elementos restantes.\n",
    "\n",
    "```\n",
    "lista_a_eliminar = [1, 9, 11, 19, 21, 29, 31, 39, 41, 49, 51, 59, 61, 69, 71, 79, 81, 89, 91, 99]\n",
    "```"
   ]
  },
  {
   "cell_type": "code",
   "execution_count": null,
   "metadata": {},
   "outputs": [],
   "source": [
    "# Your code here\n"
   ]
  }
 ],
 "metadata": {
  "kernelspec": {
   "display_name": "Python 3 (ipykernel)",
   "language": "python",
   "name": "python3"
  },
  "language_info": {
   "codemirror_mode": {
    "name": "ipython",
    "version": 3
   },
   "file_extension": ".py",
   "mimetype": "text/x-python",
   "name": "python",
   "nbconvert_exporter": "python",
   "pygments_lexer": "ipython3",
   "version": "3.10.9"
  }
 },
 "nbformat": 4,
 "nbformat_minor": 2
}
