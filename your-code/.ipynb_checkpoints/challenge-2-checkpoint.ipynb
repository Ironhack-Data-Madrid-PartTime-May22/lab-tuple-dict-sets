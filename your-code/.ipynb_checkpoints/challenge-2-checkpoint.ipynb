{
 "cells": [
  {
   "cell_type": "markdown",
   "metadata": {},
   "source": [
    "## Challenge 2: Sets\n",
    "\n",
    "There are a lot to learn about Python Sets and the information presented in the lesson is limited due to its length. To learn Python Sets in depth you are strongly encouraged to review the W3Schools tutorial on [Python Sets Examples and Methods](https://www.w3schools.com/python/python_sets.asp) before you work on this lab. Some difficult questions in this lab have their solutions in the W3Schools tutorial.\n",
    "\n",
    "#### First, import the Python `random` library."
   ]
  },
  {
   "cell_type": "code",
   "execution_count": 76,
   "metadata": {},
   "outputs": [],
   "source": [
    "import random\n"
   ]
  },
  {
   "cell_type": "markdown",
   "metadata": {},
   "source": [
    "#### In the cell below, create a list named `sample_list_1` with 80 random values. \n",
    "\n",
    "Requirements:\n",
    "\n",
    "* Each value is an integer falling between 0 and 100.\n",
    "* Each value in the list is unique.\n",
    "\n",
    "Print `sample_list_1` to review its values\n",
    "\n",
    "*Hint: use `random.sample` ([reference](https://docs.python.org/3/library/random.html#random.sample)).*"
   ]
  },
  {
   "cell_type": "code",
   "execution_count": 77,
   "metadata": {},
   "outputs": [
    {
     "name": "stdout",
     "output_type": "stream",
     "text": [
      "List: [5, 87, 93, 32, 95, 55, 6, 92, 44, 89, 59, 88, 51, 58, 21, 50, 80, 71, 17, 54, 46, 90, 12, 78, 8, 68, 72, 98, 26, 41, 74, 65, 11, 64, 14, 24, 67, 39, 86, 33, 0, 62, 16, 49, 23, 94, 15, 28, 42, 53, 37, 82, 3, 31, 1, 56, 83, 36, 40, 7, 91, 70, 60, 61, 25, 35, 9, 18, 97, 19, 45, 85, 79, 81, 43, 47, 66, 38, 29, 13]\n",
      "\n",
      "Set: {0, 1, 3, 5, 6, 7, 8, 9, 11, 12, 13, 14, 15, 16, 17, 18, 19, 21, 23, 24, 25, 26, 28, 29, 31, 32, 33, 35, 36, 37, 38, 39, 40, 41, 42, 43, 44, 45, 46, 47, 49, 50, 51, 53, 54, 55, 56, 58, 59, 60, 61, 62, 64, 65, 66, 67, 68, 70, 71, 72, 74, 78, 79, 80, 81, 82, 83, 85, 86, 87, 88, 89, 90, 91, 92, 93, 94, 95, 97, 98}\n",
      "\n",
      "Son: 80\n"
     ]
    }
   ],
   "source": [
    "# Your code here\n",
    "sample_list_1 = random.sample(range(0,100),80)\n",
    "print('List:',sample_list_1)\n",
    "set1 = set(sample_list_1)\n",
    "print('\\nSet:', set1)\n",
    "print('\\nSon:',len(set1))\n"
   ]
  },
  {
   "cell_type": "markdown",
   "metadata": {},
   "source": [
    "#### Convert `sample_list_1` to a set called `set1`. Print the length of the set. Is its length still 80?"
   ]
  },
  {
   "cell_type": "code",
   "execution_count": 78,
   "metadata": {},
   "outputs": [
    {
     "name": "stdout",
     "output_type": "stream",
     "text": [
      "List: [9, 7, 8, 18, 55, 4, 57, 44, 30, 94, 19, 48, 41, 89, 38, 97, 87, 20, 96, 93, 29, 54, 26, 71, 34, 16, 77, 64, 27, 63, 90, 50, 51, 0, 92, 13, 65, 12, 99, 14, 70, 11, 74, 39, 60, 1, 88, 81, 2, 40, 22, 45, 49, 91, 10, 25, 58, 15, 67, 37, 73, 59, 98, 80, 84, 46, 85, 21, 31, 72, 32, 82, 56, 47, 36, 5, 33, 76, 69, 35]\n",
      "\n",
      "Set: {0, 1, 2, 4, 5, 7, 8, 9, 10, 11, 12, 13, 14, 15, 16, 18, 19, 20, 21, 22, 25, 26, 27, 29, 30, 31, 32, 33, 34, 35, 36, 37, 38, 39, 40, 41, 44, 45, 46, 47, 48, 49, 50, 51, 54, 55, 56, 57, 58, 59, 60, 63, 64, 65, 67, 69, 70, 71, 72, 73, 74, 76, 77, 80, 81, 82, 84, 85, 87, 88, 89, 90, 91, 92, 93, 94, 96, 97, 98, 99}\n",
      "\n",
      "Son: 80\n"
     ]
    }
   ],
   "source": [
    "# Your code here\n",
    "sample_list_1 = random.sample(range(0,100),80)\n",
    "print('List:',sample_list_1)\n",
    "set1 = set(sample_list_1)\n",
    "print('\\nSet:', set1)\n",
    "print('\\nSon:',len(set1))"
   ]
  },
  {
   "cell_type": "markdown",
   "metadata": {},
   "source": [
    "#### Create another list named `sample_list_2` with 80 random values.\n",
    "\n",
    "Requirements:\n",
    "\n",
    "* Each value is an integer falling between 0 and 100.\n",
    "* The values in the list don't have to be unique.\n",
    "\n",
    "*Hint: Use a FOR loop.*"
   ]
  },
  {
   "cell_type": "code",
   "execution_count": 79,
   "metadata": {},
   "outputs": [
    {
     "name": "stdout",
     "output_type": "stream",
     "text": [
      "[50, 31, 42, 86, 19, 32, 42, 26, 61, 77, 34, 44, 17, 9, 45, 83, 48, 18, 7, 28, 20, 61, 14, 46, 42, 51, 65, 44, 47, 53, 97, 41, 41, 59, 8, 68, 34, 77, 45, 30, 56, 47, 3, 60, 7, 94, 79, 51, 95, 47, 78, 66, 87, 94, 32, 43, 60, 46, 68, 40, 55, 97, 14, 50, 20, 98, 9, 4, 58, 76, 49, 67, 57, 86, 12, 75, 21, 94, 58, 5]\n"
     ]
    }
   ],
   "source": [
    "# Your code here\n",
    "sample_list_2 = [random.randint(0, 100) for i in range(80)]\n",
    "print(sample_list_2)"
   ]
  },
  {
   "cell_type": "markdown",
   "metadata": {},
   "source": [
    "#### Convert `sample_list_2` to a set called `set2`. Print the length of the set. Is its length still 80?"
   ]
  },
  {
   "cell_type": "code",
   "execution_count": 80,
   "metadata": {},
   "outputs": [
    {
     "name": "stdout",
     "output_type": "stream",
     "text": [
      "{3, 4, 5, 7, 8, 9, 12, 14, 17, 18, 19, 20, 21, 26, 28, 30, 31, 32, 34, 40, 41, 42, 43, 44, 45, 46, 47, 48, 49, 50, 51, 53, 55, 56, 57, 58, 59, 60, 61, 65, 66, 67, 68, 75, 76, 77, 78, 79, 83, 86, 87, 94, 95, 97, 98} \n",
      "The length of set2 is:  55 /80\n"
     ]
    }
   ],
   "source": [
    "# Your code here\n",
    "set2 = set(sample_list_2)\n",
    "print(set2 ,'\\nThe length of set2 is: ',len(set2),'/80')\n"
   ]
  },
  {
   "cell_type": "markdown",
   "metadata": {},
   "source": [
    "#### Identify the elements present in `set1` but not in `set2`. Assign the elements to a new set named `set3`."
   ]
  },
  {
   "cell_type": "code",
   "execution_count": 94,
   "metadata": {},
   "outputs": [
    {
     "name": "stdout",
     "output_type": "stream",
     "text": [
      "{2, 10, 13, 15, 16, 22, 25, 27, 33, 35, 36, 37, 38, 54, 63, 64, 70, 72, 73, 74, 80, 82, 84, 85, 88, 90, 92, 93, 96}\n"
     ]
    }
   ],
   "source": [
    "# Your code here\n",
    "set3 = set()\n",
    "for i in set1: \n",
    "    if i not in set2:\n",
    "        set3.add(i)\n",
    "    else: \n",
    "        None\n",
    "print(set3)\n",
    "        \n"
   ]
  },
  {
   "cell_type": "markdown",
   "metadata": {},
   "source": [
    "#### Identify the elements present in `set2` but not in `set1`. Assign the elements to a new set named `set4`."
   ]
  },
  {
   "cell_type": "code",
   "execution_count": 82,
   "metadata": {},
   "outputs": [
    {
     "name": "stdout",
     "output_type": "stream",
     "text": [
      "{66, 3, 68, 42, 43, 75, 78, 79, 17, 83, 53, 86, 28, 61, 95}\n"
     ]
    }
   ],
   "source": [
    "# Your code here\n",
    "set4 = set()\n",
    "for i in set2: \n",
    "    if i not in set1:\n",
    "        set4.add(i)\n",
    "    else: \n",
    "        None\n",
    "print(set4)\n"
   ]
  },
  {
   "cell_type": "markdown",
   "metadata": {},
   "source": [
    "#### Now Identify the elements shared between `set1` and `set2`. Assign the elements to a new set named `set5`."
   ]
  },
  {
   "cell_type": "code",
   "execution_count": 83,
   "metadata": {},
   "outputs": [
    {
     "name": "stdout",
     "output_type": "stream",
     "text": [
      "{4, 5, 7, 8, 9, 12, 14, 18, 19, 20, 21, 26, 30, 31, 32, 34, 40, 41, 44, 45, 46, 47, 48, 49, 50, 51, 55, 56, 57, 58, 59, 60, 65, 67, 76, 77, 87, 94, 97, 98}\n"
     ]
    }
   ],
   "source": [
    "# Your code here\n",
    "set5 = set()\n",
    "for i in set1: \n",
    "    if i in set2:\n",
    "        set5.add(i)\n",
    "    else: \n",
    "        None\n",
    "print(set5)"
   ]
  },
  {
   "cell_type": "markdown",
   "metadata": {},
   "source": [
    "#### What is the relationship among the following values:\n",
    "\n",
    "* len(set1)\n",
    "* len(set2)\n",
    "* len(set3)\n",
    "* len(set4)\n",
    "* len(set5)\n",
    "\n",
    "Use a math formular to represent that relationship. Test your formular with Python code."
   ]
  },
  {
   "cell_type": "code",
   "execution_count": null,
   "metadata": {},
   "outputs": [],
   "source": [
    "# Your code here\n",
    "\n"
   ]
  },
  {
   "cell_type": "markdown",
   "metadata": {},
   "source": [
    "#### Create an empty set called `set6`."
   ]
  },
  {
   "cell_type": "code",
   "execution_count": 84,
   "metadata": {},
   "outputs": [],
   "source": [
    "# Your code here\n",
    "set6 = set()\n"
   ]
  },
  {
   "cell_type": "markdown",
   "metadata": {},
   "source": [
    "#### Add `set3` and `set5` to `set6` using the Python Set `update` method."
   ]
  },
  {
   "cell_type": "code",
   "execution_count": 85,
   "metadata": {},
   "outputs": [
    {
     "name": "stdout",
     "output_type": "stream",
     "text": [
      "{0, 1, 2, 4, 5, 7, 8, 9, 10, 11, 12, 13, 14, 15, 16, 18, 19, 20, 21, 22, 25, 26, 27, 29, 30, 31, 32, 33, 34, 35, 36, 37, 38, 39, 40, 41, 44, 45, 46, 47, 48, 49, 50, 51, 54, 55, 56, 57, 58, 59, 60, 63, 64, 65, 67, 69, 70, 71, 72, 73, 74, 76, 77, 80, 81, 82, 84, 85, 87, 88, 89, 90, 91, 92, 93, 94, 96, 97, 98, 99}\n"
     ]
    }
   ],
   "source": [
    "# Your code here\n",
    "set6.update(set3,set5)\n",
    "print(set6)\n"
   ]
  },
  {
   "cell_type": "markdown",
   "metadata": {},
   "source": [
    "#### Check if `set1` and `set6` are equal."
   ]
  },
  {
   "cell_type": "code",
   "execution_count": 86,
   "metadata": {},
   "outputs": [
    {
     "name": "stdout",
     "output_type": "stream",
     "text": [
      "se1t == set6\n"
     ]
    }
   ],
   "source": [
    "# Your code here\n",
    "if set1.issubset(set6): \n",
    "    print('se1t == set6')\n",
    "else: \n",
    "    print('set1 != set6')\n"
   ]
  },
  {
   "cell_type": "markdown",
   "metadata": {},
   "source": [
    "#### Check if `set1` contains `set2` using the Python Set `issubset` method. Then check if `set1` contains `set3`.*"
   ]
  },
  {
   "cell_type": "code",
   "execution_count": 96,
   "metadata": {},
   "outputs": [
    {
     "name": "stdout",
     "output_type": "stream",
     "text": [
      "set1 not contains set2\n",
      "set1 not contains set3\n"
     ]
    }
   ],
   "source": [
    "# Your code here\n",
    "if set1.issubset(set2): \n",
    "    print('se1t contains set2')\n",
    "else: \n",
    "    print('set1 not contains set2')\n",
    "\n",
    "if set1.issubset(set3): \n",
    "    print('se1t contains set3')\n",
    "else: \n",
    "    print('set1 not contains set3')"
   ]
  },
  {
   "cell_type": "markdown",
   "metadata": {},
   "source": [
    "#### Using the Python Set `union` method, aggregate `set3`, `set4`, and `set5`. Then aggregate `set1` and `set2`. \n",
    "\n",
    "#### Check if the aggregated values are equal."
   ]
  },
  {
   "cell_type": "code",
   "execution_count": 88,
   "metadata": {},
   "outputs": [
    {
     "name": "stdout",
     "output_type": "stream",
     "text": [
      "{0, 1, 2, 3, 4, 5, 7, 8, 9, 10, 11, 12, 13, 14, 15, 16, 17, 18, 19, 20, 21, 22, 25, 26, 27, 28, 29, 30, 31, 32, 33, 34, 35, 36, 37, 38, 39, 40, 41, 42, 43, 44, 45, 46, 47, 48, 49, 50, 51, 53, 54, 55, 56, 57, 58, 59, 60, 61, 63, 64, 65, 66, 67, 68, 69, 70, 71, 72, 73, 74, 75, 76, 77, 78, 79, 80, 81, 82, 83, 84, 85, 86, 87, 88, 89, 90, 91, 92, 93, 94, 95, 96, 97, 98, 99}\n",
      "{0, 1, 2, 3, 4, 5, 7, 8, 9, 10, 11, 12, 13, 14, 15, 16, 17, 18, 19, 20, 21, 22, 25, 26, 27, 28, 29, 30, 31, 32, 33, 34, 35, 36, 37, 38, 39, 40, 41, 42, 43, 44, 45, 46, 47, 48, 49, 50, 51, 53, 54, 55, 56, 57, 58, 59, 60, 61, 63, 64, 65, 66, 67, 68, 69, 70, 71, 72, 73, 74, 75, 76, 77, 78, 79, 80, 81, 82, 83, 84, 85, 86, 87, 88, 89, 90, 91, 92, 93, 94, 95, 96, 97, 98, 99}\n",
      "The values are equal\n"
     ]
    }
   ],
   "source": [
    "# Your code here\n",
    "union_sets_1 = set3.union(set4,set5)\n",
    "print(union_sets_1)\n",
    "union_sets_2 = set1.union(set2)\n",
    "print(union_sets_2)\n",
    "if union_sets_1.issubset(union_sets_2):\n",
    "    print('The values are equal')\n",
    "else: \n",
    "    print(\"The values aren't equal\")"
   ]
  },
  {
   "cell_type": "markdown",
   "metadata": {},
   "source": [
    "#### Using the `pop` method, remove the first element from `set1`."
   ]
  },
  {
   "cell_type": "code",
   "execution_count": 89,
   "metadata": {},
   "outputs": [
    {
     "name": "stdout",
     "output_type": "stream",
     "text": [
      "{1, 2, 4, 5, 7, 8, 9, 10, 11, 12, 13, 14, 15, 16, 18, 19, 20, 21, 22, 25, 26, 27, 29, 30, 31, 32, 33, 34, 35, 36, 37, 38, 39, 40, 41, 44, 45, 46, 47, 48, 49, 50, 51, 54, 55, 56, 57, 58, 59, 60, 63, 64, 65, 67, 69, 70, 71, 72, 73, 74, 76, 77, 80, 81, 82, 84, 85, 87, 88, 89, 90, 91, 92, 93, 94, 96, 97, 98, 99}\n"
     ]
    }
   ],
   "source": [
    "# Your code here\n",
    "set1.pop()\n",
    "print(set1)"
   ]
  },
  {
   "cell_type": "markdown",
   "metadata": {},
   "source": [
    "#### Remove every element in the following list from `set1` if they are present in the set. Print the remaining elements.\n",
    "\n",
    "```\n",
    "list_to_remove = [1, 9, 11, 19, 21, 29, 31, 39, 41, 49, 51, 59, 61, 69, 71, 79, 81, 89, 91, 99]\n",
    "```"
   ]
  },
  {
   "cell_type": "code",
   "execution_count": 92,
   "metadata": {},
   "outputs": [
    {
     "name": "stdout",
     "output_type": "stream",
     "text": [
      "{2, 4, 5, 7, 8, 10, 12, 13, 14, 15, 16, 18, 20, 22, 25, 26, 27, 30, 32, 33, 34, 35, 36, 37, 38, 40, 44, 45, 46, 47, 48, 50, 54, 55, 56, 57, 58, 60, 63, 64, 65, 67, 70, 72, 73, 74, 76, 77, 80, 82, 84, 85, 87, 88, 90, 92, 93, 94, 96, 97, 98}\n",
      "\n",
      " {2, 4, 5, 7, 8, 10, 12, 13, 14, 15, 16, 18, 20, 22, 25, 26, 27, 30, 32, 33, 34, 35, 36, 37, 38, 40, 44, 45, 46, 47, 48, 50, 54, 55, 56, 57, 58, 60, 63, 64, 65, 67, 70, 72, 73, 74, 76, 77, 80, 82, 84, 85, 87, 88, 90, 92, 93, 94, 96, 97, 98}\n"
     ]
    }
   ],
   "source": [
    "# Your code here\n",
    "list_to_remove = [1, 9, 11, 19, 21, 29, 31, 39, 41, 49, 51, 59, 61, 69, 71, 79, 81, 89, 91, 99]\n",
    "print(set1)\n",
    "for i in list_to_remove:\n",
    "    if i in set1:\n",
    "        set1.discard(i)\n",
    "\n",
    "        \n",
    "print('\\n',set1)"
   ]
  },
  {
   "cell_type": "code",
   "execution_count": null,
   "metadata": {},
   "outputs": [],
   "source": []
  }
 ],
 "metadata": {
  "kernelspec": {
   "display_name": "Python 3 (ipykernel)",
   "language": "python",
   "name": "python3"
  },
  "language_info": {
   "codemirror_mode": {
    "name": "ipython",
    "version": 3
   },
   "file_extension": ".py",
   "mimetype": "text/x-python",
   "name": "python",
   "nbconvert_exporter": "python",
   "pygments_lexer": "ipython3",
   "version": "3.10.9"
  }
 },
 "nbformat": 4,
 "nbformat_minor": 2
}
